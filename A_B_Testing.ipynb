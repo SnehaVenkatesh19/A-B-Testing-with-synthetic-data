{
  "nbformat": 4,
  "nbformat_minor": 0,
  "metadata": {
    "colab": {
      "provenance": []
    },
    "kernelspec": {
      "name": "python3",
      "display_name": "Python 3"
    },
    "language_info": {
      "name": "python"
    }
  },
  "cells": [
    {
      "cell_type": "code",
      "execution_count": 1,
      "metadata": {
        "colab": {
          "base_uri": "https://localhost:8080/",
          "height": 73
        },
        "id": "O9mrbi77ji3J",
        "outputId": "74cf65f8-505f-4410-e741-9369bbcc447a"
      },
      "outputs": [
        {
          "output_type": "display_data",
          "data": {
            "text/plain": [
              "<IPython.core.display.HTML object>"
            ],
            "text/html": [
              "\n",
              "     <input type=\"file\" id=\"files-da63c07f-0df6-455e-b75c-7b68f26ca1d5\" name=\"files[]\" multiple disabled\n",
              "        style=\"border:none\" />\n",
              "     <output id=\"result-da63c07f-0df6-455e-b75c-7b68f26ca1d5\">\n",
              "      Upload widget is only available when the cell has been executed in the\n",
              "      current browser session. Please rerun this cell to enable.\n",
              "      </output>\n",
              "      <script>// Copyright 2017 Google LLC\n",
              "//\n",
              "// Licensed under the Apache License, Version 2.0 (the \"License\");\n",
              "// you may not use this file except in compliance with the License.\n",
              "// You may obtain a copy of the License at\n",
              "//\n",
              "//      http://www.apache.org/licenses/LICENSE-2.0\n",
              "//\n",
              "// Unless required by applicable law or agreed to in writing, software\n",
              "// distributed under the License is distributed on an \"AS IS\" BASIS,\n",
              "// WITHOUT WARRANTIES OR CONDITIONS OF ANY KIND, either express or implied.\n",
              "// See the License for the specific language governing permissions and\n",
              "// limitations under the License.\n",
              "\n",
              "/**\n",
              " * @fileoverview Helpers for google.colab Python module.\n",
              " */\n",
              "(function(scope) {\n",
              "function span(text, styleAttributes = {}) {\n",
              "  const element = document.createElement('span');\n",
              "  element.textContent = text;\n",
              "  for (const key of Object.keys(styleAttributes)) {\n",
              "    element.style[key] = styleAttributes[key];\n",
              "  }\n",
              "  return element;\n",
              "}\n",
              "\n",
              "// Max number of bytes which will be uploaded at a time.\n",
              "const MAX_PAYLOAD_SIZE = 100 * 1024;\n",
              "\n",
              "function _uploadFiles(inputId, outputId) {\n",
              "  const steps = uploadFilesStep(inputId, outputId);\n",
              "  const outputElement = document.getElementById(outputId);\n",
              "  // Cache steps on the outputElement to make it available for the next call\n",
              "  // to uploadFilesContinue from Python.\n",
              "  outputElement.steps = steps;\n",
              "\n",
              "  return _uploadFilesContinue(outputId);\n",
              "}\n",
              "\n",
              "// This is roughly an async generator (not supported in the browser yet),\n",
              "// where there are multiple asynchronous steps and the Python side is going\n",
              "// to poll for completion of each step.\n",
              "// This uses a Promise to block the python side on completion of each step,\n",
              "// then passes the result of the previous step as the input to the next step.\n",
              "function _uploadFilesContinue(outputId) {\n",
              "  const outputElement = document.getElementById(outputId);\n",
              "  const steps = outputElement.steps;\n",
              "\n",
              "  const next = steps.next(outputElement.lastPromiseValue);\n",
              "  return Promise.resolve(next.value.promise).then((value) => {\n",
              "    // Cache the last promise value to make it available to the next\n",
              "    // step of the generator.\n",
              "    outputElement.lastPromiseValue = value;\n",
              "    return next.value.response;\n",
              "  });\n",
              "}\n",
              "\n",
              "/**\n",
              " * Generator function which is called between each async step of the upload\n",
              " * process.\n",
              " * @param {string} inputId Element ID of the input file picker element.\n",
              " * @param {string} outputId Element ID of the output display.\n",
              " * @return {!Iterable<!Object>} Iterable of next steps.\n",
              " */\n",
              "function* uploadFilesStep(inputId, outputId) {\n",
              "  const inputElement = document.getElementById(inputId);\n",
              "  inputElement.disabled = false;\n",
              "\n",
              "  const outputElement = document.getElementById(outputId);\n",
              "  outputElement.innerHTML = '';\n",
              "\n",
              "  const pickedPromise = new Promise((resolve) => {\n",
              "    inputElement.addEventListener('change', (e) => {\n",
              "      resolve(e.target.files);\n",
              "    });\n",
              "  });\n",
              "\n",
              "  const cancel = document.createElement('button');\n",
              "  inputElement.parentElement.appendChild(cancel);\n",
              "  cancel.textContent = 'Cancel upload';\n",
              "  const cancelPromise = new Promise((resolve) => {\n",
              "    cancel.onclick = () => {\n",
              "      resolve(null);\n",
              "    };\n",
              "  });\n",
              "\n",
              "  // Wait for the user to pick the files.\n",
              "  const files = yield {\n",
              "    promise: Promise.race([pickedPromise, cancelPromise]),\n",
              "    response: {\n",
              "      action: 'starting',\n",
              "    }\n",
              "  };\n",
              "\n",
              "  cancel.remove();\n",
              "\n",
              "  // Disable the input element since further picks are not allowed.\n",
              "  inputElement.disabled = true;\n",
              "\n",
              "  if (!files) {\n",
              "    return {\n",
              "      response: {\n",
              "        action: 'complete',\n",
              "      }\n",
              "    };\n",
              "  }\n",
              "\n",
              "  for (const file of files) {\n",
              "    const li = document.createElement('li');\n",
              "    li.append(span(file.name, {fontWeight: 'bold'}));\n",
              "    li.append(span(\n",
              "        `(${file.type || 'n/a'}) - ${file.size} bytes, ` +\n",
              "        `last modified: ${\n",
              "            file.lastModifiedDate ? file.lastModifiedDate.toLocaleDateString() :\n",
              "                                    'n/a'} - `));\n",
              "    const percent = span('0% done');\n",
              "    li.appendChild(percent);\n",
              "\n",
              "    outputElement.appendChild(li);\n",
              "\n",
              "    const fileDataPromise = new Promise((resolve) => {\n",
              "      const reader = new FileReader();\n",
              "      reader.onload = (e) => {\n",
              "        resolve(e.target.result);\n",
              "      };\n",
              "      reader.readAsArrayBuffer(file);\n",
              "    });\n",
              "    // Wait for the data to be ready.\n",
              "    let fileData = yield {\n",
              "      promise: fileDataPromise,\n",
              "      response: {\n",
              "        action: 'continue',\n",
              "      }\n",
              "    };\n",
              "\n",
              "    // Use a chunked sending to avoid message size limits. See b/62115660.\n",
              "    let position = 0;\n",
              "    do {\n",
              "      const length = Math.min(fileData.byteLength - position, MAX_PAYLOAD_SIZE);\n",
              "      const chunk = new Uint8Array(fileData, position, length);\n",
              "      position += length;\n",
              "\n",
              "      const base64 = btoa(String.fromCharCode.apply(null, chunk));\n",
              "      yield {\n",
              "        response: {\n",
              "          action: 'append',\n",
              "          file: file.name,\n",
              "          data: base64,\n",
              "        },\n",
              "      };\n",
              "\n",
              "      let percentDone = fileData.byteLength === 0 ?\n",
              "          100 :\n",
              "          Math.round((position / fileData.byteLength) * 100);\n",
              "      percent.textContent = `${percentDone}% done`;\n",
              "\n",
              "    } while (position < fileData.byteLength);\n",
              "  }\n",
              "\n",
              "  // All done.\n",
              "  yield {\n",
              "    response: {\n",
              "      action: 'complete',\n",
              "    }\n",
              "  };\n",
              "}\n",
              "\n",
              "scope.google = scope.google || {};\n",
              "scope.google.colab = scope.google.colab || {};\n",
              "scope.google.colab._files = {\n",
              "  _uploadFiles,\n",
              "  _uploadFilesContinue,\n",
              "};\n",
              "})(self);\n",
              "</script> "
            ]
          },
          "metadata": {}
        },
        {
          "output_type": "stream",
          "name": "stdout",
          "text": [
            "Saving ab_test_advanced.csv to ab_test_advanced.csv\n"
          ]
        }
      ],
      "source": [
        "# A/B Testing Campaign Effectiveness Analysis\n",
        "\n",
        "import pandas as pd\n",
        "import numpy as np\n",
        "import matplotlib.pyplot as plt\n",
        "import seaborn as sns\n",
        "from statsmodels.stats.proportion import proportions_ztest\n",
        "\n",
        "# Upload the raw dataset\n",
        "from google.colab import files\n",
        "uploaded = files.upload()"
      ]
    },
    {
      "cell_type": "code",
      "source": [
        "# Step 1: Load and Explore the Data\n",
        "\n",
        "import pandas as pd\n",
        "from statsmodels.stats.proportion import proportions_ztest\n",
        "from scipy import stats\n",
        "\n",
        "# Load the dataset\n",
        "df = pd.read_csv(\"ab_test_advanced.csv\")\n",
        "\n",
        "print(\"Shape of data:\", df.shape)\n",
        "df.head()\n",
        "\n",
        "# Check group balance\n",
        "group_counts = df['group'].value_counts(normalize=True)\n",
        "print(\"\\nGroup distribution (%):\\n\", group_counts)\n",
        "\n",
        "# Check basic conversion rate\n",
        "overall_conversion = df['converted'].mean()\n",
        "print(f\"\\nOverall conversion rate: {overall_conversion:.2%}\")\n",
        "\n",
        "# Check conversion rate by group\n",
        "conversion_by_group = df.groupby('group')['converted'].mean()\n",
        "print(\"\\nConversion rate by group:\\n\", conversion_by_group)\n"
      ],
      "metadata": {
        "colab": {
          "base_uri": "https://localhost:8080/"
        },
        "id": "atirzJHSj2h9",
        "outputId": "0dbe6614-6e86-4df9-aa78-661ffb9339c1"
      },
      "execution_count": 6,
      "outputs": [
        {
          "output_type": "stream",
          "name": "stdout",
          "text": [
            "Shape of data: (5000, 7)\n",
            "\n",
            "Group distribution (%):\n",
            " group\n",
            "control      0.5008\n",
            "treatment    0.4992\n",
            "Name: proportion, dtype: float64\n",
            "\n",
            "Overall conversion rate: 13.72%\n",
            "\n",
            "Conversion rate by group:\n",
            " group\n",
            "control      0.122204\n",
            "treatment    0.152244\n",
            "Name: converted, dtype: float64\n"
          ]
        }
      ]
    },
    {
      "cell_type": "code",
      "source": [
        "# --- Data Preprocessing ---\n",
        "\n",
        "# 1. Check shape and nulls\n",
        "print(\"Initial shape:\", ab_data.shape)\n",
        "print(\"\\nMissing values:\\n\", ab_data.isnull().sum())\n",
        "\n",
        "# 2. Drop duplicates on user_id (some users appear twice)\n",
        "duplicate_users = ab_data[ab_data.duplicated(['user_id'], keep=False)]\n",
        "print(\"\\nDuplicate user entries:\", duplicate_users.shape[0])\n",
        "\n",
        "# Keep only the first occurrence\n",
        "ab_data_clean = ab_data.drop_duplicates(subset='user_id')\n",
        "\n",
        "# 3. Sanity check: landing_page should match group assignment\n",
        "ab_data_clean = ab_data_clean[((ab_data_clean['group'] == 'treatment') & (ab_data_clean['landing_page'] == 'new_page')) |\n",
        "                              ((ab_data_clean['group'] == 'control') & (ab_data_clean['landing_page'] == 'old_page'))]\n",
        "\n",
        "print(\"\\nCleaned shape:\", ab_data_clean.shape)\n",
        "\n",
        "# 4. Conversion rates summary\n",
        "conversion_summary = ab_data_clean.groupby('group')['converted'].agg(['mean', 'count', 'sum'])\n",
        "print(\"\\nConversion Summary:\\n\", conversion_summary)"
      ],
      "metadata": {
        "colab": {
          "base_uri": "https://localhost:8080/"
        },
        "id": "2wV-2uXAkJk3",
        "outputId": "3a5edba8-cec4-4fe2-b4d9-df0e06d595e1"
      },
      "execution_count": null,
      "outputs": [
        {
          "output_type": "stream",
          "name": "stdout",
          "text": [
            "Initial shape: (294478, 5)\n",
            "\n",
            "Missing values:\n",
            " user_id         0\n",
            "timestamp       0\n",
            "group           0\n",
            "landing_page    0\n",
            "converted       0\n",
            "dtype: int64\n",
            "\n",
            "Duplicate user entries: 7788\n",
            "\n",
            "Cleaned shape: (288540, 5)\n",
            "\n",
            "Conversion Summary:\n",
            "                mean   count    sum\n",
            "group                             \n",
            "control    0.120290  144226  17349\n",
            "treatment  0.118727  144314  17134\n"
          ]
        }
      ]
    },
    {
      "cell_type": "code",
      "source": [
        "# Revenue statistics by group\n",
        "revenue_stats = df.groupby('group')['revenue'].agg(['mean', 'median', 'std'])\n",
        "print(\"\\nRevenue statistics by group:\\n\", revenue_stats)\n",
        "\n",
        "# Trial-to-paid conversion by group\n",
        "trial_paid = df[df['converted']].groupby('group')['trial_to_paid'].mean()\n",
        "print(\"\\nTrial-to-paid rate among converted users:\\n\", trial_paid)\n",
        "\n",
        "# Optional: Distribution plot for revenue\n",
        "plt.figure(figsize=(8, 5))\n",
        "sns.histplot(data=df[df['converted']], x='revenue', hue='group', kde=True, bins=30)\n",
        "plt.title(\"Revenue Distribution by Group (Converted Users Only)\")\n",
        "plt.xlabel(\"Revenue\")\n",
        "plt.ylabel(\"Count\")\n",
        "plt.tight_layout()\n",
        "plt.show()"
      ],
      "metadata": {
        "colab": {
          "base_uri": "https://localhost:8080/",
          "height": 715
        },
        "id": "GpGIM2rSkNwh",
        "outputId": "8cbcbbde-14c1-4c0e-c7e6-bbb56e0dd03d"
      },
      "execution_count": 3,
      "outputs": [
        {
          "output_type": "stream",
          "name": "stdout",
          "text": [
            "\n",
            "Revenue statistics by group:\n",
            "                mean  median        std\n",
            "group                                 \n",
            "control    6.101701     0.0  16.686596\n",
            "treatment  8.258045     0.0  19.900473\n",
            "\n",
            "Trial-to-paid rate among converted users:\n",
            " group\n",
            "control      0.640523\n",
            "treatment    0.755263\n",
            "Name: trial_to_paid, dtype: float64\n"
          ]
        },
        {
          "output_type": "display_data",
          "data": {
            "text/plain": [
              "<Figure size 800x500 with 1 Axes>"
            ],
            "image/png": "[encoded data removed]"
          },
          "metadata": {}
        }
      ]
    },
    {
      "cell_type": "code",
      "source": [
        "# Step 2: Statistical Testing\n",
        "\n",
        "# A. Z-Test for conversion rate difference\n",
        "success_counts = df.groupby('group')['converted'].sum().values\n",
        "n_obs = df.groupby('group')['converted'].count().values\n",
        "z_stat, p_value = proportions_ztest(count=success_counts, nobs=n_obs)\n",
        "print(f\"\\nZ-Test for Conversion Rate:\\nZ-Statistic = {z_stat:.4f}, P-Value = {p_value:.4f}\")\n",
        "\n"
      ],
      "metadata": {
        "colab": {
          "base_uri": "https://localhost:8080/"
        },
        "id": "svB98rdQkSOG",
        "outputId": "f0c7e6c2-76fa-4bff-9771-7f27450112f9"
      },
      "execution_count": 4,
      "outputs": [
        {
          "output_type": "stream",
          "name": "stdout",
          "text": [
            "\n",
            "Z-Test for Conversion Rate:\n",
            "Z-Statistic = -3.0868, P-Value = 0.0020\n"
          ]
        }
      ]
    },
    {
      "cell_type": "code",
      "source": [
        "# B. Confidence Intervals for Conversion Rate\n",
        "def proportion_confint(success, total, alpha=0.05):\n",
        "    p = success / total\n",
        "    z = stats.norm.ppf(1 - alpha / 2)\n",
        "    se = np.sqrt(p * (1 - p) / total)\n",
        "    return (p - z * se, p + z * se)\n",
        "\n",
        "for group in ['control', 'treatment']:\n",
        "    total = df[df['group'] == group].shape[0]\n",
        "    success = df[df['group'] == group]['converted'].sum()\n",
        "    ci_low, ci_high = proportion_confint(success, total)\n",
        "    print(f\"\\n{group.title()} Conversion Rate CI: ({ci_low:.3f}, {ci_high:.3f})\")\n",
        "\n"
      ],
      "metadata": {
        "colab": {
          "base_uri": "https://localhost:8080/"
        },
        "id": "DVapRdaFkVtB",
        "outputId": "78104419-357e-4a6a-9742-1da34c4338ce"
      },
      "execution_count": 7,
      "outputs": [
        {
          "output_type": "stream",
          "name": "stdout",
          "text": [
            "\n",
            "Control Conversion Rate CI: (0.109, 0.135)\n",
            "\n",
            "Treatment Conversion Rate CI: (0.138, 0.166)\n"
          ]
        }
      ]
    },
    {
      "cell_type": "code",
      "source": [
        "# C. Confidence Intervals for Average Revenue (converted only)\n",
        "converted_revenue = df[df['converted']]\n",
        "for group in ['control', 'treatment']:\n",
        "    revenue_data = converted_revenue[converted_revenue['group'] == group]['revenue']\n",
        "    mean = revenue_data.mean()\n",
        "    sem = stats.sem(revenue_data)\n",
        "    ci = stats.t.interval(0.95, len(revenue_data)-1, loc=mean, scale=sem)\n",
        "    print(f\"\\n{group.title()} Avg Revenue CI (converted users): ({ci[0]:.2f}, {ci[1]:.2f})\")\n"
      ],
      "metadata": {
        "id": "DhuKI9himawU",
        "colab": {
          "base_uri": "https://localhost:8080/"
        },
        "outputId": "c495ebff-526e-4ef6-bbea-a06084f56393"
      },
      "execution_count": 8,
      "outputs": [
        {
          "output_type": "stream",
          "name": "stdout",
          "text": [
            "\n",
            "Control Avg Revenue CI (converted users): (48.87, 50.99)\n",
            "\n",
            "Treatment Avg Revenue CI (converted users): (53.20, 55.28)\n"
          ]
        }
      ]
    },
    {
      "cell_type": "code",
      "source": [
        "import statsmodels.api as sm\n",
        "import statsmodels.formula.api as smf\n",
        "\n",
        "# Step 3: Logistic Regression Analysis\n",
        "\n",
        "# Encode categorical variables and ensure target is integer\n",
        "df['converted'] = df['converted'].astype(int)\n",
        "df_encoded = pd.get_dummies(df, columns=['group', 'device', 'source'], drop_first=True, prefix=['group', 'device', 'source'])\n",
        "\n",
        "# Check column names\n",
        "print(\"\\nEncoded columns:\", df_encoded.columns.tolist())\n",
        "\n",
        "# Identify actual column names for modeling\n",
        "available_columns = df_encoded.columns.tolist()\n",
        "predictors = [col for col in available_columns if col.startswith(('group_', 'device_', 'source_')) and col != 'group_control']\n",
        "formula = 'converted ~ ' + ' + '.join(predictors)\n",
        "\n",
        "# Logistic regression model using actual column names\n",
        "model = smf.logit(formula, data=df_encoded)\n",
        "result = model.fit()\n",
        "\n",
        "# Summary of logistic regression\n",
        "print(\"\\nLogistic Regression Results:\\n\")\n",
        "print(result.summary())"
      ],
      "metadata": {
        "colab": {
          "base_uri": "https://localhost:8080/"
        },
        "id": "z41kJUVYruYQ",
        "outputId": "4f631525-9411-4eb7-a1a2-36aa3285bab7"
      },
      "execution_count": 12,
      "outputs": [
        {
          "output_type": "stream",
          "name": "stdout",
          "text": [
            "\n",
            "Encoded columns: ['user_id', 'converted', 'revenue', 'trial_to_paid', 'group_treatment', 'device_mobile', 'device_tablet', 'source_organic', 'source_referral']\n",
            "Optimization terminated successfully.\n",
            "         Current function value: 0.398697\n",
            "         Iterations 6\n",
            "\n",
            "Logistic Regression Results:\n",
            "\n",
            "                           Logit Regression Results                           \n",
            "==============================================================================\n",
            "Dep. Variable:              converted   No. Observations:                 5000\n",
            "Model:                          Logit   Df Residuals:                     4994\n",
            "Method:                           MLE   Df Model:                            5\n",
            "Date:                Thu, 03 Apr 2025   Pseudo R-squ.:                0.002877\n",
            "Time:                        03:30:19   Log-Likelihood:                -1993.5\n",
            "converged:                       True   LL-Null:                       -1999.2\n",
            "Covariance Type:            nonrobust   LLR p-value:                   0.04224\n",
            "===========================================================================================\n",
            "                              coef    std err          z      P>|z|      [0.025      0.975]\n",
            "-------------------------------------------------------------------------------------------\n",
            "Intercept                  -2.0571      0.111    -18.564      0.000      -2.274      -1.840\n",
            "group_treatment[T.True]     0.2576      0.083      3.115      0.002       0.095       0.420\n",
            "device_mobile[T.True]      -0.0058      0.093     -0.062      0.950      -0.188       0.177\n",
            "device_tablet[T.True]       0.0595      0.150      0.398      0.691      -0.234       0.353\n",
            "source_organic[T.True]      0.1016      0.097      1.052      0.293      -0.088       0.291\n",
            "source_referral[T.True]     0.1467      0.120      1.227      0.220      -0.088       0.381\n",
            "===========================================================================================\n"
          ]
        }
      ]
    },
    {
      "cell_type": "code",
      "source": [
        "# Step 4: Linear Regression on Revenue (Converted Users Only)\n",
        "converted_only = df_encoded[df_encoded['converted'] == 1].copy()\n",
        "\n",
        "# Define formula for linear regression\n",
        "revenue_predictors = [col for col in predictors if col in converted_only.columns]\n",
        "revenue_formula = 'revenue ~ ' + ' + '.join(revenue_predictors)\n",
        "\n",
        "# Fit the linear regression model\n",
        "revenue_model = smf.ols(formula=revenue_formula, data=converted_only).fit()\n",
        "\n",
        "# Output regression summary\n",
        "print(\"\\nLinear Regression on Revenue (Converted Users Only):\\n\")\n",
        "print(revenue_model.summary())\n"
      ],
      "metadata": {
        "colab": {
          "base_uri": "https://localhost:8080/"
        },
        "id": "uLOpcPJcr9C3",
        "outputId": "b71a814f-9013-4f73-e6b1-d223f49e1793"
      },
      "execution_count": 13,
      "outputs": [
        {
          "output_type": "stream",
          "name": "stdout",
          "text": [
            "\n",
            "Linear Regression on Revenue (Converted Users Only):\n",
            "\n",
            "                            OLS Regression Results                            \n",
            "==============================================================================\n",
            "Dep. Variable:                revenue   R-squared:                       0.049\n",
            "Model:                            OLS   Adj. R-squared:                  0.042\n",
            "Method:                 Least Squares   F-statistic:                     7.031\n",
            "Date:                Thu, 03 Apr 2025   Prob (F-statistic):           2.03e-06\n",
            "Time:                        03:31:31   Log-Likelihood:                -2546.1\n",
            "No. Observations:                 686   AIC:                             5104.\n",
            "Df Residuals:                     680   BIC:                             5131.\n",
            "Df Model:                           5                                         \n",
            "Covariance Type:            nonrobust                                         \n",
            "===========================================================================================\n",
            "                              coef    std err          t      P>|t|      [0.025      0.975]\n",
            "-------------------------------------------------------------------------------------------\n",
            "Intercept                  49.8159      1.036     48.079      0.000      47.782      51.850\n",
            "group_treatment[T.True]     4.2944      0.765      5.614      0.000       2.793       5.796\n",
            "device_mobile[T.True]       0.9333      0.859      1.086      0.278      -0.754       2.621\n",
            "device_tablet[T.True]       0.4175      1.377      0.303      0.762      -2.285       3.120\n",
            "source_organic[T.True]     -1.0195      0.895     -1.139      0.255      -2.777       0.738\n",
            "source_referral[T.True]     0.1852      1.105      0.168      0.867      -1.983       2.354\n",
            "==============================================================================\n",
            "Omnibus:                        1.789   Durbin-Watson:                   1.947\n",
            "Prob(Omnibus):                  0.409   Jarque-Bera (JB):                1.714\n",
            "Skew:                           0.037   Prob(JB):                        0.425\n",
            "Kurtosis:                       3.234   Cond. No.                         6.15\n",
            "==============================================================================\n",
            "\n",
            "Notes:\n",
            "[1] Standard Errors assume that the covariance matrix of the errors is correctly specified.\n"
          ]
        }
      ]
    },
    {
      "cell_type": "code",
      "source": [],
      "metadata": {
        "id": "jV7EKtJmtDUs"
      },
      "execution_count": null,
      "outputs": []
    }
  ]
}